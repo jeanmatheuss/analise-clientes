{
 "cells": [
  {
   "attachments": {},
   "cell_type": "markdown",
   "metadata": {},
   "source": [
    "## **Exploração, limpeza e análise de dados de clientes que possuem cartão de crédito de um banco.**\n",
    "\n",
    "O dataset possui as informações dos clientes, separadas da seguinte forma:\n",
    "\n",
    "* idade = idade do cliente\n",
    "* sexo = genêro do cliente (M: masculino, F: feminino)\n",
    "* dependentes = número de dependetes do cliente\n",
    "* escolaridade = nível de escolaridade do cliente\n",
    "* estado_civil = estado civíl do cliente\n",
    "* salario_anual = faixa de salário anual do cliente\n",
    "* tipo_cartao = tipo de cartão do cliente\n",
    "* meses_de_relacionamento = total de meses que são clientes\n",
    "* qtd_produtos = quantidade de produtos comprado nos últimos 12 meses\n",
    "* iteracoes_12m = quantidade de interações nos últimos 12 meses\n",
    "* meses_inativo_12m = quantidade de meses que o cliente não utilizou o cartão\n",
    "* limite_credito = limite de crédtio do cartão\n",
    "* valor_transacoes_12m = valor das transações dos últimos 12 meses\n",
    "* qtd_transacoes_12m = quantidade de transações dos últimos 12 meses\n",
    "\n",
    "\n"
   ]
  },
  {
   "attachments": {},
   "cell_type": "markdown",
   "metadata": {},
   "source": [
    "Nesse projeto iremos fazer a exploração do dataset, identificar os dados nulos e analisar o perfil dos clientes do banco."
   ]
  },
  {
   "cell_type": "code",
   "execution_count": 3,
   "metadata": {},
   "outputs": [],
   "source": [
    "# Importando bibliotecas necessárias para o projeto\n",
    "\n",
    "import numpy as np\n",
    "import pandas as pd\n",
    "import seaborn as sns\n",
    "import matplotlib.pyplot as plt\n",
    "import plotly.express as px\n",
    "\n",
    "%matplotlib inline"
   ]
  },
  {
   "cell_type": "code",
   "execution_count": 7,
   "metadata": {},
   "outputs": [
    {
     "data": {
      "text/html": [
       "<div>\n",
       "<style scoped>\n",
       "    .dataframe tbody tr th:only-of-type {\n",
       "        vertical-align: middle;\n",
       "    }\n",
       "\n",
       "    .dataframe tbody tr th {\n",
       "        vertical-align: top;\n",
       "    }\n",
       "\n",
       "    .dataframe thead th {\n",
       "        text-align: right;\n",
       "    }\n",
       "</style>\n",
       "<table border=\"1\" class=\"dataframe\">\n",
       "  <thead>\n",
       "    <tr style=\"text-align: right;\">\n",
       "      <th></th>\n",
       "      <th>id</th>\n",
       "      <th>default</th>\n",
       "      <th>idade</th>\n",
       "      <th>sexo</th>\n",
       "      <th>dependentes</th>\n",
       "      <th>escolaridade</th>\n",
       "      <th>estado_civil</th>\n",
       "      <th>salario_anual</th>\n",
       "      <th>tipo_cartao</th>\n",
       "      <th>meses_de_relacionamento</th>\n",
       "      <th>qtd_produtos</th>\n",
       "      <th>iteracoes_12m</th>\n",
       "      <th>meses_inativo_12m</th>\n",
       "      <th>limite_credito</th>\n",
       "      <th>valor_transacoes_12m</th>\n",
       "      <th>qtd_transacoes_12m</th>\n",
       "    </tr>\n",
       "  </thead>\n",
       "  <tbody>\n",
       "    <tr>\n",
       "      <th>0</th>\n",
       "      <td>768805383</td>\n",
       "      <td>0</td>\n",
       "      <td>45</td>\n",
       "      <td>M</td>\n",
       "      <td>3</td>\n",
       "      <td>ensino medio</td>\n",
       "      <td>casado</td>\n",
       "      <td>$60K - $80K</td>\n",
       "      <td>blue</td>\n",
       "      <td>39</td>\n",
       "      <td>5</td>\n",
       "      <td>3</td>\n",
       "      <td>1</td>\n",
       "      <td>12691.51</td>\n",
       "      <td>1144.90</td>\n",
       "      <td>42</td>\n",
       "    </tr>\n",
       "    <tr>\n",
       "      <th>1</th>\n",
       "      <td>818770008</td>\n",
       "      <td>0</td>\n",
       "      <td>49</td>\n",
       "      <td>F</td>\n",
       "      <td>5</td>\n",
       "      <td>mestrado</td>\n",
       "      <td>solteiro</td>\n",
       "      <td>menos que $40K</td>\n",
       "      <td>blue</td>\n",
       "      <td>44</td>\n",
       "      <td>6</td>\n",
       "      <td>2</td>\n",
       "      <td>1</td>\n",
       "      <td>8256.96</td>\n",
       "      <td>1291.45</td>\n",
       "      <td>33</td>\n",
       "    </tr>\n",
       "    <tr>\n",
       "      <th>2</th>\n",
       "      <td>713982108</td>\n",
       "      <td>0</td>\n",
       "      <td>51</td>\n",
       "      <td>M</td>\n",
       "      <td>3</td>\n",
       "      <td>mestrado</td>\n",
       "      <td>casado</td>\n",
       "      <td>$80K - $120K</td>\n",
       "      <td>blue</td>\n",
       "      <td>36</td>\n",
       "      <td>4</td>\n",
       "      <td>0</td>\n",
       "      <td>1</td>\n",
       "      <td>3418.56</td>\n",
       "      <td>1887.72</td>\n",
       "      <td>20</td>\n",
       "    </tr>\n",
       "    <tr>\n",
       "      <th>3</th>\n",
       "      <td>769911858</td>\n",
       "      <td>0</td>\n",
       "      <td>40</td>\n",
       "      <td>F</td>\n",
       "      <td>4</td>\n",
       "      <td>ensino medio</td>\n",
       "      <td>na</td>\n",
       "      <td>menos que $40K</td>\n",
       "      <td>blue</td>\n",
       "      <td>34</td>\n",
       "      <td>3</td>\n",
       "      <td>1</td>\n",
       "      <td>4</td>\n",
       "      <td>3313.03</td>\n",
       "      <td>1171.56</td>\n",
       "      <td>20</td>\n",
       "    </tr>\n",
       "    <tr>\n",
       "      <th>4</th>\n",
       "      <td>709106358</td>\n",
       "      <td>0</td>\n",
       "      <td>40</td>\n",
       "      <td>M</td>\n",
       "      <td>3</td>\n",
       "      <td>sem educacao formal</td>\n",
       "      <td>casado</td>\n",
       "      <td>$60K - $80K</td>\n",
       "      <td>blue</td>\n",
       "      <td>21</td>\n",
       "      <td>5</td>\n",
       "      <td>0</td>\n",
       "      <td>1</td>\n",
       "      <td>4716.22</td>\n",
       "      <td>816.08</td>\n",
       "      <td>28</td>\n",
       "    </tr>\n",
       "  </tbody>\n",
       "</table>\n",
       "</div>"
      ],
      "text/plain": [
       "          id  default  idade sexo  dependentes         escolaridade  \\\n",
       "0  768805383        0     45    M            3         ensino medio   \n",
       "1  818770008        0     49    F            5             mestrado   \n",
       "2  713982108        0     51    M            3             mestrado   \n",
       "3  769911858        0     40    F            4         ensino medio   \n",
       "4  709106358        0     40    M            3  sem educacao formal   \n",
       "\n",
       "  estado_civil   salario_anual tipo_cartao  meses_de_relacionamento  \\\n",
       "0       casado     $60K - $80K        blue                       39   \n",
       "1     solteiro  menos que $40K        blue                       44   \n",
       "2       casado    $80K - $120K        blue                       36   \n",
       "3           na  menos que $40K        blue                       34   \n",
       "4       casado     $60K - $80K        blue                       21   \n",
       "\n",
       "   qtd_produtos  iteracoes_12m  meses_inativo_12m  limite_credito  \\\n",
       "0             5              3                  1        12691.51   \n",
       "1             6              2                  1         8256.96   \n",
       "2             4              0                  1         3418.56   \n",
       "3             3              1                  4         3313.03   \n",
       "4             5              0                  1         4716.22   \n",
       "\n",
       "   valor_transacoes_12m  qtd_transacoes_12m  \n",
       "0               1144.90                  42  \n",
       "1               1291.45                  33  \n",
       "2               1887.72                  20  \n",
       "3               1171.56                  20  \n",
       "4                816.08                  28  "
      ]
     },
     "execution_count": 7,
     "metadata": {},
     "output_type": "execute_result"
    }
   ],
   "source": [
    "# import data e convertendo as colunas limite_Credito e valor_Transacoes_12m para float\n",
    "df = pd.read_csv('https://raw.githubusercontent.com/andre-marcos-perez/ebac-course-utils/main/dataset/credito.csv', thousands='.', decimal=',', dtype={'limite_credito':np.float64, 'valor_transacoes_12m':np.float64})\n",
    "df.head()"
   ]
  },
  {
   "attachments": {},
   "cell_type": "markdown",
   "metadata": {},
   "source": [
    "## **Explorando os dados:**\n",
    "\n",
    "Aqui veremoscomo nosso dataset é composto, verificar os dados nulos, tratar os dados para que no final consigamos traçar o perfil de alguns clientes."
   ]
  },
  {
   "cell_type": "code",
   "execution_count": 8,
   "metadata": {},
   "outputs": [
    {
     "name": "stdout",
     "output_type": "stream",
     "text": [
      "<class 'pandas.core.frame.DataFrame'>\n",
      "RangeIndex: 10127 entries, 0 to 10126\n",
      "Data columns (total 16 columns):\n",
      " #   Column                   Non-Null Count  Dtype  \n",
      "---  ------                   --------------  -----  \n",
      " 0   id                       10127 non-null  int64  \n",
      " 1   default                  10127 non-null  int64  \n",
      " 2   idade                    10127 non-null  int64  \n",
      " 3   sexo                     10127 non-null  object \n",
      " 4   dependentes              10127 non-null  int64  \n",
      " 5   escolaridade             10127 non-null  object \n",
      " 6   estado_civil             10127 non-null  object \n",
      " 7   salario_anual            10127 non-null  object \n",
      " 8   tipo_cartao              10127 non-null  object \n",
      " 9   meses_de_relacionamento  10127 non-null  int64  \n",
      " 10  qtd_produtos             10127 non-null  int64  \n",
      " 11  iteracoes_12m            10127 non-null  int64  \n",
      " 12  meses_inativo_12m        10127 non-null  int64  \n",
      " 13  limite_credito           10127 non-null  float64\n",
      " 14  valor_transacoes_12m     10127 non-null  float64\n",
      " 15  qtd_transacoes_12m       10127 non-null  int64  \n",
      "dtypes: float64(2), int64(9), object(5)\n",
      "memory usage: 1.2+ MB\n"
     ]
    }
   ],
   "source": [
    "# informações sobre o DF\n",
    "df.info()"
   ]
  },
  {
   "cell_type": "code",
   "execution_count": 9,
   "metadata": {},
   "outputs": [],
   "source": [
    "# escluindo colunas irrelevantes\n",
    "df = df.drop(columns=['id'])"
   ]
  },
  {
   "cell_type": "code",
   "execution_count": 12,
   "metadata": {},
   "outputs": [
    {
     "name": "stdout",
     "output_type": "stream",
     "text": [
      "<class 'pandas.core.frame.DataFrame'>\n",
      "RangeIndex: 10127 entries, 0 to 10126\n",
      "Data columns (total 15 columns):\n",
      " #   Column                   Non-Null Count  Dtype  \n",
      "---  ------                   --------------  -----  \n",
      " 0   default                  10127 non-null  int64  \n",
      " 1   idade                    10127 non-null  int64  \n",
      " 2   sexo                     10127 non-null  object \n",
      " 3   dependentes              10127 non-null  int64  \n",
      " 4   escolaridade             10127 non-null  object \n",
      " 5   estado_civil             10127 non-null  object \n",
      " 6   salario_anual            10127 non-null  object \n",
      " 7   tipo_cartao              10127 non-null  object \n",
      " 8   meses_de_relacionamento  10127 non-null  int64  \n",
      " 9   qtd_produtos             10127 non-null  int64  \n",
      " 10  iteracoes_12m            10127 non-null  int64  \n",
      " 11  meses_inativo_12m        10127 non-null  int64  \n",
      " 12  limite_credito           10127 non-null  float64\n",
      " 13  valor_transacoes_12m     10127 non-null  float64\n",
      " 14  qtd_transacoes_12m       10127 non-null  int64  \n",
      "dtypes: float64(2), int64(8), object(5)\n",
      "memory usage: 1.2+ MB\n"
     ]
    }
   ],
   "source": [
    "df.info()"
   ]
  },
  {
   "cell_type": "code",
   "execution_count": 11,
   "metadata": {},
   "outputs": [
    {
     "data": {
      "text/plain": [
       "default                    False\n",
       "idade                      False\n",
       "sexo                       False\n",
       "dependentes                False\n",
       "escolaridade               False\n",
       "estado_civil               False\n",
       "salario_anual              False\n",
       "tipo_cartao                False\n",
       "meses_de_relacionamento    False\n",
       "qtd_produtos               False\n",
       "iteracoes_12m              False\n",
       "meses_inativo_12m          False\n",
       "limite_credito             False\n",
       "valor_transacoes_12m       False\n",
       "qtd_transacoes_12m         False\n",
       "dtype: bool"
      ]
     },
     "execution_count": 11,
     "metadata": {},
     "output_type": "execute_result"
    }
   ],
   "source": [
    "# verificando dados faltantes/nulos\n",
    "df.isnull().any()"
   ]
  },
  {
   "attachments": {},
   "cell_type": "markdown",
   "metadata": {},
   "source": [
    "> Não possui valores nulos, mas como verificamos há valores com 'na' e precisamos saber disso e de que forma isso pode afetar nosso estudo."
   ]
  },
  {
   "cell_type": "code",
   "execution_count": 13,
   "metadata": {},
   "outputs": [
    {
     "name": "stdout",
     "output_type": "stream",
     "text": [
      "['M' 'F']\n",
      "['ensino medio' 'mestrado' 'sem educacao formal' 'na' 'graduacao'\n",
      " 'doutorado']\n",
      "['casado' 'solteiro' 'na' 'divorciado']\n",
      "['$60K - $80K' 'menos que $40K' '$80K - $120K' '$40K - $60K' '$120K +'\n",
      " 'na']\n",
      "['blue' 'gold' 'silver' 'platinum']\n"
     ]
    }
   ],
   "source": [
    "# Como notamos que algumas colunas possuem os valores 'na' (valores nulos) apesar de não constarem na linha acima, precisamos levar isso em consideração para análises futuras\n",
    "for col in df.select_dtypes('object'):\n",
    "    print(df[col].unique())"
   ]
  },
  {
   "attachments": {},
   "cell_type": "markdown",
   "metadata": {},
   "source": [
    "#### *Verificando os valores nulos nas colunas escolaridade, estado_civil e salario_anual:*"
   ]
  },
  {
   "cell_type": "code",
   "execution_count": 14,
   "metadata": {},
   "outputs": [
    {
     "data": {
      "text/html": [
       "<div>\n",
       "<style scoped>\n",
       "    .dataframe tbody tr th:only-of-type {\n",
       "        vertical-align: middle;\n",
       "    }\n",
       "\n",
       "    .dataframe tbody tr th {\n",
       "        vertical-align: top;\n",
       "    }\n",
       "\n",
       "    .dataframe thead th {\n",
       "        text-align: right;\n",
       "    }\n",
       "</style>\n",
       "<table border=\"1\" class=\"dataframe\">\n",
       "  <thead>\n",
       "    <tr style=\"text-align: right;\">\n",
       "      <th></th>\n",
       "      <th>escolaridade</th>\n",
       "      <th>QTD</th>\n",
       "    </tr>\n",
       "  </thead>\n",
       "  <tbody>\n",
       "    <tr>\n",
       "      <th>0</th>\n",
       "      <td>doutorado</td>\n",
       "      <td>967</td>\n",
       "    </tr>\n",
       "    <tr>\n",
       "      <th>1</th>\n",
       "      <td>ensino medio</td>\n",
       "      <td>2013</td>\n",
       "    </tr>\n",
       "    <tr>\n",
       "      <th>2</th>\n",
       "      <td>graduacao</td>\n",
       "      <td>1013</td>\n",
       "    </tr>\n",
       "    <tr>\n",
       "      <th>3</th>\n",
       "      <td>mestrado</td>\n",
       "      <td>3128</td>\n",
       "    </tr>\n",
       "    <tr>\n",
       "      <th>4</th>\n",
       "      <td>na</td>\n",
       "      <td>1519</td>\n",
       "    </tr>\n",
       "    <tr>\n",
       "      <th>5</th>\n",
       "      <td>sem educacao formal</td>\n",
       "      <td>1487</td>\n",
       "    </tr>\n",
       "  </tbody>\n",
       "</table>\n",
       "</div>"
      ],
      "text/plain": [
       "          escolaridade   QTD\n",
       "0            doutorado   967\n",
       "1         ensino medio  2013\n",
       "2            graduacao  1013\n",
       "3             mestrado  3128\n",
       "4                   na  1519\n",
       "5  sem educacao formal  1487"
      ]
     },
     "metadata": {},
     "output_type": "display_data"
    },
    {
     "data": {
      "text/html": [
       "<div>\n",
       "<style scoped>\n",
       "    .dataframe tbody tr th:only-of-type {\n",
       "        vertical-align: middle;\n",
       "    }\n",
       "\n",
       "    .dataframe tbody tr th {\n",
       "        vertical-align: top;\n",
       "    }\n",
       "\n",
       "    .dataframe thead th {\n",
       "        text-align: right;\n",
       "    }\n",
       "</style>\n",
       "<table border=\"1\" class=\"dataframe\">\n",
       "  <thead>\n",
       "    <tr style=\"text-align: right;\">\n",
       "      <th></th>\n",
       "      <th>estado_civil</th>\n",
       "      <th>QTD</th>\n",
       "    </tr>\n",
       "  </thead>\n",
       "  <tbody>\n",
       "    <tr>\n",
       "      <th>0</th>\n",
       "      <td>casado</td>\n",
       "      <td>4687</td>\n",
       "    </tr>\n",
       "    <tr>\n",
       "      <th>1</th>\n",
       "      <td>divorciado</td>\n",
       "      <td>748</td>\n",
       "    </tr>\n",
       "    <tr>\n",
       "      <th>2</th>\n",
       "      <td>na</td>\n",
       "      <td>749</td>\n",
       "    </tr>\n",
       "    <tr>\n",
       "      <th>3</th>\n",
       "      <td>solteiro</td>\n",
       "      <td>3943</td>\n",
       "    </tr>\n",
       "  </tbody>\n",
       "</table>\n",
       "</div>"
      ],
      "text/plain": [
       "  estado_civil   QTD\n",
       "0       casado  4687\n",
       "1   divorciado   748\n",
       "2           na   749\n",
       "3     solteiro  3943"
      ]
     },
     "metadata": {},
     "output_type": "display_data"
    },
    {
     "data": {
      "text/html": [
       "<div>\n",
       "<style scoped>\n",
       "    .dataframe tbody tr th:only-of-type {\n",
       "        vertical-align: middle;\n",
       "    }\n",
       "\n",
       "    .dataframe tbody tr th {\n",
       "        vertical-align: top;\n",
       "    }\n",
       "\n",
       "    .dataframe thead th {\n",
       "        text-align: right;\n",
       "    }\n",
       "</style>\n",
       "<table border=\"1\" class=\"dataframe\">\n",
       "  <thead>\n",
       "    <tr style=\"text-align: right;\">\n",
       "      <th></th>\n",
       "      <th>salario_anual</th>\n",
       "      <th>QTD</th>\n",
       "    </tr>\n",
       "  </thead>\n",
       "  <tbody>\n",
       "    <tr>\n",
       "      <th>0</th>\n",
       "      <td>$120K +</td>\n",
       "      <td>727</td>\n",
       "    </tr>\n",
       "    <tr>\n",
       "      <th>1</th>\n",
       "      <td>$40K - $60K</td>\n",
       "      <td>1790</td>\n",
       "    </tr>\n",
       "    <tr>\n",
       "      <th>2</th>\n",
       "      <td>$60K - $80K</td>\n",
       "      <td>1402</td>\n",
       "    </tr>\n",
       "    <tr>\n",
       "      <th>3</th>\n",
       "      <td>$80K - $120K</td>\n",
       "      <td>1535</td>\n",
       "    </tr>\n",
       "    <tr>\n",
       "      <th>4</th>\n",
       "      <td>menos que $40K</td>\n",
       "      <td>3561</td>\n",
       "    </tr>\n",
       "    <tr>\n",
       "      <th>5</th>\n",
       "      <td>na</td>\n",
       "      <td>1112</td>\n",
       "    </tr>\n",
       "  </tbody>\n",
       "</table>\n",
       "</div>"
      ],
      "text/plain": [
       "    salario_anual   QTD\n",
       "0         $120K +   727\n",
       "1     $40K - $60K  1790\n",
       "2     $60K - $80K  1402\n",
       "3    $80K - $120K  1535\n",
       "4  menos que $40K  3561\n",
       "5              na  1112"
      ]
     },
     "metadata": {},
     "output_type": "display_data"
    }
   ],
   "source": [
    "# escolaridade\n",
    "display(df.groupby(['escolaridade'])['escolaridade'].count().reset_index(name='QTD'))\n",
    "\n",
    "# estado_civil\n",
    "display(df.groupby(['estado_civil'])['estado_civil'].count().reset_index(name='QTD'))\n",
    "\n",
    "# salario_anual\n",
    "display(df.groupby(['salario_anual'])['salario_anual'].count().reset_index(name='QTD'))"
   ]
  },
  {
   "cell_type": "markdown",
   "metadata": {},
   "source": [
    "> Aqui verificamos que há alguns dados classificados como 'na', que podem ser considerados como 'dados faltantes' e devemos observar isso para a geração dos gráficos."
   ]
  },
  {
   "attachments": {},
   "cell_type": "markdown",
   "metadata": {},
   "source": [
    "## **Análisando os dados:**\n",
    "\n",
    "Após identificar e limpeza dos dados, iremos ver alguns dados relevantes e após isso  gerar alguns gráficos pra facilitar a vizualização dos clientes."
   ]
  },
  {
   "cell_type": "code",
   "execution_count": 15,
   "metadata": {},
   "outputs": [
    {
     "data": {
      "text/html": [
       "<div>\n",
       "<style scoped>\n",
       "    .dataframe tbody tr th:only-of-type {\n",
       "        vertical-align: middle;\n",
       "    }\n",
       "\n",
       "    .dataframe tbody tr th {\n",
       "        vertical-align: top;\n",
       "    }\n",
       "\n",
       "    .dataframe thead th {\n",
       "        text-align: right;\n",
       "    }\n",
       "</style>\n",
       "<table border=\"1\" class=\"dataframe\">\n",
       "  <thead>\n",
       "    <tr style=\"text-align: right;\">\n",
       "      <th></th>\n",
       "      <th>count</th>\n",
       "      <th>mean</th>\n",
       "      <th>std</th>\n",
       "      <th>min</th>\n",
       "      <th>25%</th>\n",
       "      <th>50%</th>\n",
       "      <th>75%</th>\n",
       "      <th>max</th>\n",
       "    </tr>\n",
       "  </thead>\n",
       "  <tbody>\n",
       "    <tr>\n",
       "      <th>default</th>\n",
       "      <td>10127.0</td>\n",
       "      <td>0.160660</td>\n",
       "      <td>0.367235</td>\n",
       "      <td>0.00</td>\n",
       "      <td>0.000</td>\n",
       "      <td>0.00</td>\n",
       "      <td>0.000</td>\n",
       "      <td>1.00</td>\n",
       "    </tr>\n",
       "    <tr>\n",
       "      <th>idade</th>\n",
       "      <td>10127.0</td>\n",
       "      <td>46.325960</td>\n",
       "      <td>8.016814</td>\n",
       "      <td>26.00</td>\n",
       "      <td>41.000</td>\n",
       "      <td>46.00</td>\n",
       "      <td>52.000</td>\n",
       "      <td>73.00</td>\n",
       "    </tr>\n",
       "    <tr>\n",
       "      <th>dependentes</th>\n",
       "      <td>10127.0</td>\n",
       "      <td>2.346203</td>\n",
       "      <td>1.298908</td>\n",
       "      <td>0.00</td>\n",
       "      <td>1.000</td>\n",
       "      <td>2.00</td>\n",
       "      <td>3.000</td>\n",
       "      <td>5.00</td>\n",
       "    </tr>\n",
       "    <tr>\n",
       "      <th>meses_de_relacionamento</th>\n",
       "      <td>10127.0</td>\n",
       "      <td>35.928409</td>\n",
       "      <td>7.986416</td>\n",
       "      <td>13.00</td>\n",
       "      <td>31.000</td>\n",
       "      <td>36.00</td>\n",
       "      <td>40.000</td>\n",
       "      <td>56.00</td>\n",
       "    </tr>\n",
       "    <tr>\n",
       "      <th>qtd_produtos</th>\n",
       "      <td>10127.0</td>\n",
       "      <td>3.812580</td>\n",
       "      <td>1.554408</td>\n",
       "      <td>1.00</td>\n",
       "      <td>3.000</td>\n",
       "      <td>4.00</td>\n",
       "      <td>5.000</td>\n",
       "      <td>6.00</td>\n",
       "    </tr>\n",
       "    <tr>\n",
       "      <th>iteracoes_12m</th>\n",
       "      <td>10127.0</td>\n",
       "      <td>2.455317</td>\n",
       "      <td>1.106225</td>\n",
       "      <td>0.00</td>\n",
       "      <td>2.000</td>\n",
       "      <td>2.00</td>\n",
       "      <td>3.000</td>\n",
       "      <td>6.00</td>\n",
       "    </tr>\n",
       "    <tr>\n",
       "      <th>meses_inativo_12m</th>\n",
       "      <td>10127.0</td>\n",
       "      <td>2.341167</td>\n",
       "      <td>1.010622</td>\n",
       "      <td>0.00</td>\n",
       "      <td>2.000</td>\n",
       "      <td>2.00</td>\n",
       "      <td>3.000</td>\n",
       "      <td>6.00</td>\n",
       "    </tr>\n",
       "    <tr>\n",
       "      <th>limite_credito</th>\n",
       "      <td>10127.0</td>\n",
       "      <td>8632.440165</td>\n",
       "      <td>9088.788041</td>\n",
       "      <td>1438.00</td>\n",
       "      <td>2555.355</td>\n",
       "      <td>4549.42</td>\n",
       "      <td>11068.175</td>\n",
       "      <td>34516.99</td>\n",
       "    </tr>\n",
       "    <tr>\n",
       "      <th>valor_transacoes_12m</th>\n",
       "      <td>10127.0</td>\n",
       "      <td>4404.583047</td>\n",
       "      <td>3397.128078</td>\n",
       "      <td>510.16</td>\n",
       "      <td>2155.825</td>\n",
       "      <td>3899.59</td>\n",
       "      <td>4741.310</td>\n",
       "      <td>18484.93</td>\n",
       "    </tr>\n",
       "    <tr>\n",
       "      <th>qtd_transacoes_12m</th>\n",
       "      <td>10127.0</td>\n",
       "      <td>64.858695</td>\n",
       "      <td>23.472570</td>\n",
       "      <td>10.00</td>\n",
       "      <td>45.000</td>\n",
       "      <td>67.00</td>\n",
       "      <td>81.000</td>\n",
       "      <td>139.00</td>\n",
       "    </tr>\n",
       "  </tbody>\n",
       "</table>\n",
       "</div>"
      ],
      "text/plain": [
       "                           count         mean          std      min       25%  \\\n",
       "default                  10127.0     0.160660     0.367235     0.00     0.000   \n",
       "idade                    10127.0    46.325960     8.016814    26.00    41.000   \n",
       "dependentes              10127.0     2.346203     1.298908     0.00     1.000   \n",
       "meses_de_relacionamento  10127.0    35.928409     7.986416    13.00    31.000   \n",
       "qtd_produtos             10127.0     3.812580     1.554408     1.00     3.000   \n",
       "iteracoes_12m            10127.0     2.455317     1.106225     0.00     2.000   \n",
       "meses_inativo_12m        10127.0     2.341167     1.010622     0.00     2.000   \n",
       "limite_credito           10127.0  8632.440165  9088.788041  1438.00  2555.355   \n",
       "valor_transacoes_12m     10127.0  4404.583047  3397.128078   510.16  2155.825   \n",
       "qtd_transacoes_12m       10127.0    64.858695    23.472570    10.00    45.000   \n",
       "\n",
       "                             50%        75%       max  \n",
       "default                     0.00      0.000      1.00  \n",
       "idade                      46.00     52.000     73.00  \n",
       "dependentes                 2.00      3.000      5.00  \n",
       "meses_de_relacionamento    36.00     40.000     56.00  \n",
       "qtd_produtos                4.00      5.000      6.00  \n",
       "iteracoes_12m               2.00      3.000      6.00  \n",
       "meses_inativo_12m           2.00      3.000      6.00  \n",
       "limite_credito           4549.42  11068.175  34516.99  \n",
       "valor_transacoes_12m     3899.59   4741.310  18484.93  \n",
       "qtd_transacoes_12m         67.00     81.000    139.00  "
      ]
     },
     "metadata": {},
     "output_type": "display_data"
    }
   ],
   "source": [
    "# identificando alguns parâmetros relevantes\n",
    "display(df.describe().transpose())\n"
   ]
  },
  {
   "attachments": {},
   "cell_type": "markdown",
   "metadata": {},
   "source": [
    "Média de idade dos clientes é: 46 anos\n",
    "\n",
    "Média de dependentes é: 2\n",
    "\n"
   ]
  },
  {
   "cell_type": "code",
   "execution_count": 16,
   "metadata": {},
   "outputs": [
    {
     "data": {
      "text/html": [
       "<div>\n",
       "<style scoped>\n",
       "    .dataframe tbody tr th:only-of-type {\n",
       "        vertical-align: middle;\n",
       "    }\n",
       "\n",
       "    .dataframe tbody tr th {\n",
       "        vertical-align: top;\n",
       "    }\n",
       "\n",
       "    .dataframe thead th {\n",
       "        text-align: right;\n",
       "    }\n",
       "</style>\n",
       "<table border=\"1\" class=\"dataframe\">\n",
       "  <thead>\n",
       "    <tr style=\"text-align: right;\">\n",
       "      <th></th>\n",
       "      <th>count</th>\n",
       "      <th>mean</th>\n",
       "      <th>std</th>\n",
       "      <th>min</th>\n",
       "      <th>25%</th>\n",
       "      <th>50%</th>\n",
       "      <th>75%</th>\n",
       "      <th>max</th>\n",
       "    </tr>\n",
       "  </thead>\n",
       "  <tbody>\n",
       "    <tr>\n",
       "      <th>default</th>\n",
       "      <td>727.0</td>\n",
       "      <td>0.173315</td>\n",
       "      <td>0.378780</td>\n",
       "      <td>0.0</td>\n",
       "      <td>0.00</td>\n",
       "      <td>0.00</td>\n",
       "      <td>0.00</td>\n",
       "      <td>1.00</td>\n",
       "    </tr>\n",
       "    <tr>\n",
       "      <th>idade</th>\n",
       "      <td>727.0</td>\n",
       "      <td>47.603851</td>\n",
       "      <td>6.769921</td>\n",
       "      <td>26.0</td>\n",
       "      <td>43.00</td>\n",
       "      <td>49.00</td>\n",
       "      <td>53.00</td>\n",
       "      <td>62.00</td>\n",
       "    </tr>\n",
       "    <tr>\n",
       "      <th>dependentes</th>\n",
       "      <td>727.0</td>\n",
       "      <td>2.462173</td>\n",
       "      <td>1.166987</td>\n",
       "      <td>0.0</td>\n",
       "      <td>2.00</td>\n",
       "      <td>2.00</td>\n",
       "      <td>3.00</td>\n",
       "      <td>5.00</td>\n",
       "    </tr>\n",
       "    <tr>\n",
       "      <th>meses_de_relacionamento</th>\n",
       "      <td>727.0</td>\n",
       "      <td>36.891334</td>\n",
       "      <td>7.358623</td>\n",
       "      <td>13.0</td>\n",
       "      <td>33.00</td>\n",
       "      <td>36.00</td>\n",
       "      <td>42.00</td>\n",
       "      <td>54.00</td>\n",
       "    </tr>\n",
       "    <tr>\n",
       "      <th>qtd_produtos</th>\n",
       "      <td>727.0</td>\n",
       "      <td>3.778542</td>\n",
       "      <td>1.572554</td>\n",
       "      <td>1.0</td>\n",
       "      <td>3.00</td>\n",
       "      <td>4.00</td>\n",
       "      <td>5.00</td>\n",
       "      <td>6.00</td>\n",
       "    </tr>\n",
       "    <tr>\n",
       "      <th>iteracoes_12m</th>\n",
       "      <td>727.0</td>\n",
       "      <td>2.537827</td>\n",
       "      <td>1.124918</td>\n",
       "      <td>0.0</td>\n",
       "      <td>2.00</td>\n",
       "      <td>3.00</td>\n",
       "      <td>3.00</td>\n",
       "      <td>6.00</td>\n",
       "    </tr>\n",
       "    <tr>\n",
       "      <th>meses_inativo_12m</th>\n",
       "      <td>727.0</td>\n",
       "      <td>2.331499</td>\n",
       "      <td>0.972847</td>\n",
       "      <td>0.0</td>\n",
       "      <td>2.00</td>\n",
       "      <td>2.00</td>\n",
       "      <td>3.00</td>\n",
       "      <td>6.00</td>\n",
       "    </tr>\n",
       "    <tr>\n",
       "      <th>limite_credito</th>\n",
       "      <td>727.0</td>\n",
       "      <td>19717.809807</td>\n",
       "      <td>12064.318184</td>\n",
       "      <td>1438.2</td>\n",
       "      <td>8466.84</td>\n",
       "      <td>18442.32</td>\n",
       "      <td>34516.09</td>\n",
       "      <td>34516.98</td>\n",
       "    </tr>\n",
       "    <tr>\n",
       "      <th>valor_transacoes_12m</th>\n",
       "      <td>727.0</td>\n",
       "      <td>4529.968638</td>\n",
       "      <td>3816.059043</td>\n",
       "      <td>602.6</td>\n",
       "      <td>1871.10</td>\n",
       "      <td>3643.78</td>\n",
       "      <td>4831.77</td>\n",
       "      <td>16695.48</td>\n",
       "    </tr>\n",
       "    <tr>\n",
       "      <th>qtd_transacoes_12m</th>\n",
       "      <td>727.0</td>\n",
       "      <td>63.704264</td>\n",
       "      <td>25.750910</td>\n",
       "      <td>10.0</td>\n",
       "      <td>43.00</td>\n",
       "      <td>64.00</td>\n",
       "      <td>81.00</td>\n",
       "      <td>139.00</td>\n",
       "    </tr>\n",
       "  </tbody>\n",
       "</table>\n",
       "</div>"
      ],
      "text/plain": [
       "                         count          mean           std     min      25%  \\\n",
       "default                  727.0      0.173315      0.378780     0.0     0.00   \n",
       "idade                    727.0     47.603851      6.769921    26.0    43.00   \n",
       "dependentes              727.0      2.462173      1.166987     0.0     2.00   \n",
       "meses_de_relacionamento  727.0     36.891334      7.358623    13.0    33.00   \n",
       "qtd_produtos             727.0      3.778542      1.572554     1.0     3.00   \n",
       "iteracoes_12m            727.0      2.537827      1.124918     0.0     2.00   \n",
       "meses_inativo_12m        727.0      2.331499      0.972847     0.0     2.00   \n",
       "limite_credito           727.0  19717.809807  12064.318184  1438.2  8466.84   \n",
       "valor_transacoes_12m     727.0   4529.968638   3816.059043   602.6  1871.10   \n",
       "qtd_transacoes_12m       727.0     63.704264     25.750910    10.0    43.00   \n",
       "\n",
       "                              50%       75%       max  \n",
       "default                      0.00      0.00      1.00  \n",
       "idade                       49.00     53.00     62.00  \n",
       "dependentes                  2.00      3.00      5.00  \n",
       "meses_de_relacionamento     36.00     42.00     54.00  \n",
       "qtd_produtos                 4.00      5.00      6.00  \n",
       "iteracoes_12m                3.00      3.00      6.00  \n",
       "meses_inativo_12m            2.00      3.00      6.00  \n",
       "limite_credito           18442.32  34516.09  34516.98  \n",
       "valor_transacoes_12m      3643.78   4831.77  16695.48  \n",
       "qtd_transacoes_12m          64.00     81.00    139.00  "
      ]
     },
     "execution_count": 16,
     "metadata": {},
     "output_type": "execute_result"
    }
   ],
   "source": [
    "# verificar idade média dos salários\n",
    "\n",
    "df.query('salario_anual == \"$120K +\"').describe().T"
   ]
  },
  {
   "cell_type": "code",
   "execution_count": 17,
   "metadata": {},
   "outputs": [
    {
     "data": {
      "text/html": [
       "<div>\n",
       "<style scoped>\n",
       "    .dataframe tbody tr th:only-of-type {\n",
       "        vertical-align: middle;\n",
       "    }\n",
       "\n",
       "    .dataframe tbody tr th {\n",
       "        vertical-align: top;\n",
       "    }\n",
       "\n",
       "    .dataframe thead th {\n",
       "        text-align: right;\n",
       "    }\n",
       "</style>\n",
       "<table border=\"1\" class=\"dataframe\">\n",
       "  <thead>\n",
       "    <tr style=\"text-align: right;\">\n",
       "      <th></th>\n",
       "      <th>count</th>\n",
       "      <th>unique</th>\n",
       "      <th>top</th>\n",
       "      <th>freq</th>\n",
       "    </tr>\n",
       "  </thead>\n",
       "  <tbody>\n",
       "    <tr>\n",
       "      <th>sexo</th>\n",
       "      <td>10127</td>\n",
       "      <td>2</td>\n",
       "      <td>F</td>\n",
       "      <td>5358</td>\n",
       "    </tr>\n",
       "    <tr>\n",
       "      <th>escolaridade</th>\n",
       "      <td>10127</td>\n",
       "      <td>6</td>\n",
       "      <td>mestrado</td>\n",
       "      <td>3128</td>\n",
       "    </tr>\n",
       "    <tr>\n",
       "      <th>estado_civil</th>\n",
       "      <td>10127</td>\n",
       "      <td>4</td>\n",
       "      <td>casado</td>\n",
       "      <td>4687</td>\n",
       "    </tr>\n",
       "    <tr>\n",
       "      <th>salario_anual</th>\n",
       "      <td>10127</td>\n",
       "      <td>6</td>\n",
       "      <td>menos que $40K</td>\n",
       "      <td>3561</td>\n",
       "    </tr>\n",
       "    <tr>\n",
       "      <th>tipo_cartao</th>\n",
       "      <td>10127</td>\n",
       "      <td>4</td>\n",
       "      <td>blue</td>\n",
       "      <td>9436</td>\n",
       "    </tr>\n",
       "  </tbody>\n",
       "</table>\n",
       "</div>"
      ],
      "text/plain": [
       "               count unique             top  freq\n",
       "sexo           10127      2               F  5358\n",
       "escolaridade   10127      6        mestrado  3128\n",
       "estado_civil   10127      4          casado  4687\n",
       "salario_anual  10127      6  menos que $40K  3561\n",
       "tipo_cartao    10127      4            blue  9436"
      ]
     },
     "execution_count": 17,
     "metadata": {},
     "output_type": "execute_result"
    }
   ],
   "source": [
    "df.describe(include=['O']).transpose()"
   ]
  },
  {
   "attachments": {},
   "cell_type": "markdown",
   "metadata": {},
   "source": [
    ">Aqui podemos ver os dados mais comuns do nosso dataset\n",
    "\n",
    "*Algumas observações:*\n",
    "* A maior parte dos clientes são mulheres;\n",
    "* A maior parte dos clientes possuem mestrado;\n",
    "* A maior parte dos clientes são casados;\n",
    "* A maior parte dos clientes ganham menos que $40K;\n",
    "* A maior parte dos clientes possuem cartão do tipo blue."
   ]
  },
  {
   "cell_type": "code",
   "execution_count": 18,
   "metadata": {},
   "outputs": [
    {
     "data": {
      "text/html": [
       "<div>\n",
       "<style scoped>\n",
       "    .dataframe tbody tr th:only-of-type {\n",
       "        vertical-align: middle;\n",
       "    }\n",
       "\n",
       "    .dataframe tbody tr th {\n",
       "        vertical-align: top;\n",
       "    }\n",
       "\n",
       "    .dataframe thead th {\n",
       "        text-align: right;\n",
       "    }\n",
       "</style>\n",
       "<table border=\"1\" class=\"dataframe\">\n",
       "  <thead>\n",
       "    <tr style=\"text-align: right;\">\n",
       "      <th></th>\n",
       "      <th>count</th>\n",
       "      <th>unique</th>\n",
       "      <th>top</th>\n",
       "      <th>freq</th>\n",
       "    </tr>\n",
       "  </thead>\n",
       "  <tbody>\n",
       "    <tr>\n",
       "      <th>sexo</th>\n",
       "      <td>5358</td>\n",
       "      <td>1</td>\n",
       "      <td>F</td>\n",
       "      <td>5358</td>\n",
       "    </tr>\n",
       "    <tr>\n",
       "      <th>escolaridade</th>\n",
       "      <td>5358</td>\n",
       "      <td>6</td>\n",
       "      <td>mestrado</td>\n",
       "      <td>1670</td>\n",
       "    </tr>\n",
       "    <tr>\n",
       "      <th>estado_civil</th>\n",
       "      <td>5358</td>\n",
       "      <td>4</td>\n",
       "      <td>casado</td>\n",
       "      <td>2451</td>\n",
       "    </tr>\n",
       "    <tr>\n",
       "      <th>salario_anual</th>\n",
       "      <td>5358</td>\n",
       "      <td>3</td>\n",
       "      <td>menos que $40K</td>\n",
       "      <td>3284</td>\n",
       "    </tr>\n",
       "    <tr>\n",
       "      <th>tipo_cartao</th>\n",
       "      <td>5358</td>\n",
       "      <td>4</td>\n",
       "      <td>blue</td>\n",
       "      <td>5101</td>\n",
       "    </tr>\n",
       "  </tbody>\n",
       "</table>\n",
       "</div>"
      ],
      "text/plain": [
       "              count unique             top  freq\n",
       "sexo           5358      1               F  5358\n",
       "escolaridade   5358      6        mestrado  1670\n",
       "estado_civil   5358      4          casado  2451\n",
       "salario_anual  5358      3  menos que $40K  3284\n",
       "tipo_cartao    5358      4            blue  5101"
      ]
     },
     "execution_count": 18,
     "metadata": {},
     "output_type": "execute_result"
    }
   ],
   "source": [
    "df.query('sexo == \"F\"').describe(include=['O']).T"
   ]
  },
  {
   "cell_type": "code",
   "execution_count": 19,
   "metadata": {},
   "outputs": [
    {
     "data": {
      "text/html": [
       "<div>\n",
       "<style scoped>\n",
       "    .dataframe tbody tr th:only-of-type {\n",
       "        vertical-align: middle;\n",
       "    }\n",
       "\n",
       "    .dataframe tbody tr th {\n",
       "        vertical-align: top;\n",
       "    }\n",
       "\n",
       "    .dataframe thead th {\n",
       "        text-align: right;\n",
       "    }\n",
       "</style>\n",
       "<table border=\"1\" class=\"dataframe\">\n",
       "  <thead>\n",
       "    <tr style=\"text-align: right;\">\n",
       "      <th></th>\n",
       "      <th>count</th>\n",
       "      <th>unique</th>\n",
       "      <th>top</th>\n",
       "      <th>freq</th>\n",
       "    </tr>\n",
       "  </thead>\n",
       "  <tbody>\n",
       "    <tr>\n",
       "      <th>sexo</th>\n",
       "      <td>4769</td>\n",
       "      <td>1</td>\n",
       "      <td>M</td>\n",
       "      <td>4769</td>\n",
       "    </tr>\n",
       "    <tr>\n",
       "      <th>escolaridade</th>\n",
       "      <td>4769</td>\n",
       "      <td>6</td>\n",
       "      <td>mestrado</td>\n",
       "      <td>1458</td>\n",
       "    </tr>\n",
       "    <tr>\n",
       "      <th>estado_civil</th>\n",
       "      <td>4769</td>\n",
       "      <td>4</td>\n",
       "      <td>casado</td>\n",
       "      <td>2236</td>\n",
       "    </tr>\n",
       "    <tr>\n",
       "      <th>salario_anual</th>\n",
       "      <td>4769</td>\n",
       "      <td>6</td>\n",
       "      <td>$80K - $120K</td>\n",
       "      <td>1535</td>\n",
       "    </tr>\n",
       "    <tr>\n",
       "      <th>tipo_cartao</th>\n",
       "      <td>4769</td>\n",
       "      <td>4</td>\n",
       "      <td>blue</td>\n",
       "      <td>4335</td>\n",
       "    </tr>\n",
       "  </tbody>\n",
       "</table>\n",
       "</div>"
      ],
      "text/plain": [
       "              count unique           top  freq\n",
       "sexo           4769      1             M  4769\n",
       "escolaridade   4769      6      mestrado  1458\n",
       "estado_civil   4769      4        casado  2236\n",
       "salario_anual  4769      6  $80K - $120K  1535\n",
       "tipo_cartao    4769      4          blue  4335"
      ]
     },
     "execution_count": 19,
     "metadata": {},
     "output_type": "execute_result"
    }
   ],
   "source": [
    "df.query('sexo == \"M\"').describe(include=['O']).T"
   ]
  },
  {
   "attachments": {},
   "cell_type": "markdown",
   "metadata": {},
   "source": [
    ">Aqui o que nos chama atenção é de que a maioria dos clientes homens são casados e ganham 2x mais que as mulheres.\n",
    "\n",
    ">Mesmo com a faixa de valores tão alta, os clientes possuem cartões do tipo blue."
   ]
  },
  {
   "cell_type": "code",
   "execution_count": 20,
   "metadata": {},
   "outputs": [
    {
     "data": {
      "text/html": [
       "<div>\n",
       "<style scoped>\n",
       "    .dataframe tbody tr th:only-of-type {\n",
       "        vertical-align: middle;\n",
       "    }\n",
       "\n",
       "    .dataframe tbody tr th {\n",
       "        vertical-align: top;\n",
       "    }\n",
       "\n",
       "    .dataframe thead th {\n",
       "        text-align: right;\n",
       "    }\n",
       "</style>\n",
       "<table border=\"1\" class=\"dataframe\">\n",
       "  <thead>\n",
       "    <tr style=\"text-align: right;\">\n",
       "      <th></th>\n",
       "      <th>count</th>\n",
       "      <th>unique</th>\n",
       "      <th>top</th>\n",
       "      <th>freq</th>\n",
       "    </tr>\n",
       "  </thead>\n",
       "  <tbody>\n",
       "    <tr>\n",
       "      <th>sexo</th>\n",
       "      <td>1535</td>\n",
       "      <td>1</td>\n",
       "      <td>M</td>\n",
       "      <td>1535</td>\n",
       "    </tr>\n",
       "    <tr>\n",
       "      <th>escolaridade</th>\n",
       "      <td>1535</td>\n",
       "      <td>6</td>\n",
       "      <td>mestrado</td>\n",
       "      <td>478</td>\n",
       "    </tr>\n",
       "    <tr>\n",
       "      <th>estado_civil</th>\n",
       "      <td>1535</td>\n",
       "      <td>4</td>\n",
       "      <td>casado</td>\n",
       "      <td>735</td>\n",
       "    </tr>\n",
       "    <tr>\n",
       "      <th>salario_anual</th>\n",
       "      <td>1535</td>\n",
       "      <td>1</td>\n",
       "      <td>$80K - $120K</td>\n",
       "      <td>1535</td>\n",
       "    </tr>\n",
       "    <tr>\n",
       "      <th>tipo_cartao</th>\n",
       "      <td>1535</td>\n",
       "      <td>4</td>\n",
       "      <td>blue</td>\n",
       "      <td>1395</td>\n",
       "    </tr>\n",
       "  </tbody>\n",
       "</table>\n",
       "</div>"
      ],
      "text/plain": [
       "              count unique           top  freq\n",
       "sexo           1535      1             M  1535\n",
       "escolaridade   1535      6      mestrado   478\n",
       "estado_civil   1535      4        casado   735\n",
       "salario_anual  1535      1  $80K - $120K  1535\n",
       "tipo_cartao    1535      4          blue  1395"
      ]
     },
     "execution_count": 20,
     "metadata": {},
     "output_type": "execute_result"
    }
   ],
   "source": [
    "df.query('salario_anual == \"$80K - $120K\"').describe(include=['O']).T"
   ]
  },
  {
   "cell_type": "code",
   "execution_count": 21,
   "metadata": {},
   "outputs": [
    {
     "data": {
      "text/html": [
       "<div>\n",
       "<style scoped>\n",
       "    .dataframe tbody tr th:only-of-type {\n",
       "        vertical-align: middle;\n",
       "    }\n",
       "\n",
       "    .dataframe tbody tr th {\n",
       "        vertical-align: top;\n",
       "    }\n",
       "\n",
       "    .dataframe thead th {\n",
       "        text-align: right;\n",
       "    }\n",
       "</style>\n",
       "<table border=\"1\" class=\"dataframe\">\n",
       "  <thead>\n",
       "    <tr style=\"text-align: right;\">\n",
       "      <th></th>\n",
       "      <th>count</th>\n",
       "      <th>unique</th>\n",
       "      <th>top</th>\n",
       "      <th>freq</th>\n",
       "    </tr>\n",
       "  </thead>\n",
       "  <tbody>\n",
       "    <tr>\n",
       "      <th>sexo</th>\n",
       "      <td>5440</td>\n",
       "      <td>2</td>\n",
       "      <td>F</td>\n",
       "      <td>2907</td>\n",
       "    </tr>\n",
       "    <tr>\n",
       "      <th>escolaridade</th>\n",
       "      <td>5440</td>\n",
       "      <td>6</td>\n",
       "      <td>mestrado</td>\n",
       "      <td>1649</td>\n",
       "    </tr>\n",
       "    <tr>\n",
       "      <th>estado_civil</th>\n",
       "      <td>5440</td>\n",
       "      <td>3</td>\n",
       "      <td>solteiro</td>\n",
       "      <td>3943</td>\n",
       "    </tr>\n",
       "    <tr>\n",
       "      <th>salario_anual</th>\n",
       "      <td>5440</td>\n",
       "      <td>6</td>\n",
       "      <td>menos que $40K</td>\n",
       "      <td>1933</td>\n",
       "    </tr>\n",
       "    <tr>\n",
       "      <th>tipo_cartao</th>\n",
       "      <td>5440</td>\n",
       "      <td>4</td>\n",
       "      <td>blue</td>\n",
       "      <td>5003</td>\n",
       "    </tr>\n",
       "  </tbody>\n",
       "</table>\n",
       "</div>"
      ],
      "text/plain": [
       "              count unique             top  freq\n",
       "sexo           5440      2               F  2907\n",
       "escolaridade   5440      6        mestrado  1649\n",
       "estado_civil   5440      3        solteiro  3943\n",
       "salario_anual  5440      6  menos que $40K  1933\n",
       "tipo_cartao    5440      4            blue  5003"
      ]
     },
     "execution_count": 21,
     "metadata": {},
     "output_type": "execute_result"
    }
   ],
   "source": [
    "df.query('estado_civil != \"casado\"').describe(include=['O']).T"
   ]
  },
  {
   "cell_type": "code",
   "execution_count": 22,
   "metadata": {},
   "outputs": [
    {
     "data": {
      "text/html": [
       "<div>\n",
       "<style scoped>\n",
       "    .dataframe tbody tr th:only-of-type {\n",
       "        vertical-align: middle;\n",
       "    }\n",
       "\n",
       "    .dataframe tbody tr th {\n",
       "        vertical-align: top;\n",
       "    }\n",
       "\n",
       "    .dataframe thead th {\n",
       "        text-align: right;\n",
       "    }\n",
       "</style>\n",
       "<table border=\"1\" class=\"dataframe\">\n",
       "  <thead>\n",
       "    <tr style=\"text-align: right;\">\n",
       "      <th></th>\n",
       "      <th>count</th>\n",
       "      <th>unique</th>\n",
       "      <th>top</th>\n",
       "      <th>freq</th>\n",
       "    </tr>\n",
       "  </thead>\n",
       "  <tbody>\n",
       "    <tr>\n",
       "      <th>sexo</th>\n",
       "      <td>3943</td>\n",
       "      <td>2</td>\n",
       "      <td>F</td>\n",
       "      <td>2125</td>\n",
       "    </tr>\n",
       "    <tr>\n",
       "      <th>escolaridade</th>\n",
       "      <td>3943</td>\n",
       "      <td>6</td>\n",
       "      <td>mestrado</td>\n",
       "      <td>1197</td>\n",
       "    </tr>\n",
       "    <tr>\n",
       "      <th>estado_civil</th>\n",
       "      <td>3943</td>\n",
       "      <td>1</td>\n",
       "      <td>solteiro</td>\n",
       "      <td>3943</td>\n",
       "    </tr>\n",
       "    <tr>\n",
       "      <th>salario_anual</th>\n",
       "      <td>3943</td>\n",
       "      <td>6</td>\n",
       "      <td>menos que $40K</td>\n",
       "      <td>1429</td>\n",
       "    </tr>\n",
       "    <tr>\n",
       "      <th>tipo_cartao</th>\n",
       "      <td>3943</td>\n",
       "      <td>4</td>\n",
       "      <td>blue</td>\n",
       "      <td>3624</td>\n",
       "    </tr>\n",
       "  </tbody>\n",
       "</table>\n",
       "</div>"
      ],
      "text/plain": [
       "              count unique             top  freq\n",
       "sexo           3943      2               F  2125\n",
       "escolaridade   3943      6        mestrado  1197\n",
       "estado_civil   3943      1        solteiro  3943\n",
       "salario_anual  3943      6  menos que $40K  1429\n",
       "tipo_cartao    3943      4            blue  3624"
      ]
     },
     "execution_count": 22,
     "metadata": {},
     "output_type": "execute_result"
    }
   ],
   "source": [
    "df.query('estado_civil == \"solteiro\"').describe(include=['O']).T"
   ]
  },
  {
   "cell_type": "code",
   "execution_count": 53,
   "metadata": {},
   "outputs": [
    {
     "data": {
      "text/html": [
       "<div>\n",
       "<style scoped>\n",
       "    .dataframe tbody tr th:only-of-type {\n",
       "        vertical-align: middle;\n",
       "    }\n",
       "\n",
       "    .dataframe tbody tr th {\n",
       "        vertical-align: top;\n",
       "    }\n",
       "\n",
       "    .dataframe thead th {\n",
       "        text-align: right;\n",
       "    }\n",
       "</style>\n",
       "<table border=\"1\" class=\"dataframe\">\n",
       "  <thead>\n",
       "    <tr style=\"text-align: right;\">\n",
       "      <th></th>\n",
       "      <th>limite_credito</th>\n",
       "      <th>salario_anual</th>\n",
       "      <th>sexo</th>\n",
       "    </tr>\n",
       "  </thead>\n",
       "  <tbody>\n",
       "    <tr>\n",
       "      <th>0</th>\n",
       "      <td>12691.51</td>\n",
       "      <td>$60K - $80K</td>\n",
       "      <td>M</td>\n",
       "    </tr>\n",
       "    <tr>\n",
       "      <th>1</th>\n",
       "      <td>8256.96</td>\n",
       "      <td>menos que $40K</td>\n",
       "      <td>F</td>\n",
       "    </tr>\n",
       "    <tr>\n",
       "      <th>2</th>\n",
       "      <td>3418.56</td>\n",
       "      <td>$80K - $120K</td>\n",
       "      <td>M</td>\n",
       "    </tr>\n",
       "    <tr>\n",
       "      <th>3</th>\n",
       "      <td>3313.03</td>\n",
       "      <td>menos que $40K</td>\n",
       "      <td>F</td>\n",
       "    </tr>\n",
       "    <tr>\n",
       "      <th>4</th>\n",
       "      <td>4716.22</td>\n",
       "      <td>$60K - $80K</td>\n",
       "      <td>M</td>\n",
       "    </tr>\n",
       "    <tr>\n",
       "      <th>5</th>\n",
       "      <td>4010.69</td>\n",
       "      <td>$40K - $60K</td>\n",
       "      <td>M</td>\n",
       "    </tr>\n",
       "    <tr>\n",
       "      <th>6</th>\n",
       "      <td>34516.72</td>\n",
       "      <td>$120K +</td>\n",
       "      <td>M</td>\n",
       "    </tr>\n",
       "    <tr>\n",
       "      <th>7</th>\n",
       "      <td>29081.49</td>\n",
       "      <td>$60K - $80K</td>\n",
       "      <td>M</td>\n",
       "    </tr>\n",
       "    <tr>\n",
       "      <th>8</th>\n",
       "      <td>22352.50</td>\n",
       "      <td>$60K - $80K</td>\n",
       "      <td>M</td>\n",
       "    </tr>\n",
       "    <tr>\n",
       "      <th>9</th>\n",
       "      <td>11656.41</td>\n",
       "      <td>$80K - $120K</td>\n",
       "      <td>M</td>\n",
       "    </tr>\n",
       "    <tr>\n",
       "      <th>10</th>\n",
       "      <td>6748.40</td>\n",
       "      <td>$120K +</td>\n",
       "      <td>M</td>\n",
       "    </tr>\n",
       "    <tr>\n",
       "      <th>11</th>\n",
       "      <td>9095.59</td>\n",
       "      <td>$40K - $60K</td>\n",
       "      <td>M</td>\n",
       "    </tr>\n",
       "    <tr>\n",
       "      <th>12</th>\n",
       "      <td>11751.09</td>\n",
       "      <td>$80K - $120K</td>\n",
       "      <td>M</td>\n",
       "    </tr>\n",
       "    <tr>\n",
       "      <th>13</th>\n",
       "      <td>8547.74</td>\n",
       "      <td>$60K - $80K</td>\n",
       "      <td>M</td>\n",
       "    </tr>\n",
       "    <tr>\n",
       "      <th>14</th>\n",
       "      <td>2436.00</td>\n",
       "      <td>menos que $40K</td>\n",
       "      <td>F</td>\n",
       "    </tr>\n",
       "    <tr>\n",
       "      <th>15</th>\n",
       "      <td>4234.96</td>\n",
       "      <td>$80K - $120K</td>\n",
       "      <td>M</td>\n",
       "    </tr>\n",
       "    <tr>\n",
       "      <th>16</th>\n",
       "      <td>30367.57</td>\n",
       "      <td>$80K - $120K</td>\n",
       "      <td>M</td>\n",
       "    </tr>\n",
       "    <tr>\n",
       "      <th>18</th>\n",
       "      <td>3193.51</td>\n",
       "      <td>$40K - $60K</td>\n",
       "      <td>M</td>\n",
       "    </tr>\n",
       "    <tr>\n",
       "      <th>21</th>\n",
       "      <td>1438.73</td>\n",
       "      <td>menos que $40K</td>\n",
       "      <td>F</td>\n",
       "    </tr>\n",
       "    <tr>\n",
       "      <th>22</th>\n",
       "      <td>4470.45</td>\n",
       "      <td>$40K - $60K</td>\n",
       "      <td>M</td>\n",
       "    </tr>\n",
       "    <tr>\n",
       "      <th>23</th>\n",
       "      <td>2492.08</td>\n",
       "      <td>menos que $40K</td>\n",
       "      <td>F</td>\n",
       "    </tr>\n",
       "    <tr>\n",
       "      <th>26</th>\n",
       "      <td>14784.12</td>\n",
       "      <td>$40K - $60K</td>\n",
       "      <td>M</td>\n",
       "    </tr>\n",
       "    <tr>\n",
       "      <th>38</th>\n",
       "      <td>3672.19</td>\n",
       "      <td>$40K - $60K</td>\n",
       "      <td>F</td>\n",
       "    </tr>\n",
       "    <tr>\n",
       "      <th>42</th>\n",
       "      <td>17304.68</td>\n",
       "      <td>$40K - $60K</td>\n",
       "      <td>F</td>\n",
       "    </tr>\n",
       "    <tr>\n",
       "      <th>53</th>\n",
       "      <td>19763.65</td>\n",
       "      <td>$120K +</td>\n",
       "      <td>M</td>\n",
       "    </tr>\n",
       "    <tr>\n",
       "      <th>54</th>\n",
       "      <td>15769.34</td>\n",
       "      <td>$120K +</td>\n",
       "      <td>M</td>\n",
       "    </tr>\n",
       "    <tr>\n",
       "      <th>63</th>\n",
       "      <td>23957.43</td>\n",
       "      <td>$120K +</td>\n",
       "      <td>M</td>\n",
       "    </tr>\n",
       "    <tr>\n",
       "      <th>82</th>\n",
       "      <td>2158.57</td>\n",
       "      <td>$40K - $60K</td>\n",
       "      <td>F</td>\n",
       "    </tr>\n",
       "    <tr>\n",
       "      <th>95</th>\n",
       "      <td>1709.75</td>\n",
       "      <td>menos que $40K</td>\n",
       "      <td>M</td>\n",
       "    </tr>\n",
       "    <tr>\n",
       "      <th>123</th>\n",
       "      <td>3788.86</td>\n",
       "      <td>$40K - $60K</td>\n",
       "      <td>F</td>\n",
       "    </tr>\n",
       "    <tr>\n",
       "      <th>134</th>\n",
       "      <td>3235.89</td>\n",
       "      <td>menos que $40K</td>\n",
       "      <td>M</td>\n",
       "    </tr>\n",
       "    <tr>\n",
       "      <th>135</th>\n",
       "      <td>11749.97</td>\n",
       "      <td>$40K - $60K</td>\n",
       "      <td>F</td>\n",
       "    </tr>\n",
       "    <tr>\n",
       "      <th>198</th>\n",
       "      <td>1438.72</td>\n",
       "      <td>menos que $40K</td>\n",
       "      <td>M</td>\n",
       "    </tr>\n",
       "    <tr>\n",
       "      <th>215</th>\n",
       "      <td>2571.08</td>\n",
       "      <td>menos que $40K</td>\n",
       "      <td>M</td>\n",
       "    </tr>\n",
       "    <tr>\n",
       "      <th>254</th>\n",
       "      <td>3252.00</td>\n",
       "      <td>menos que $40K</td>\n",
       "      <td>M</td>\n",
       "    </tr>\n",
       "  </tbody>\n",
       "</table>\n",
       "</div>"
      ],
      "text/plain": [
       "     limite_credito   salario_anual sexo\n",
       "0          12691.51     $60K - $80K    M\n",
       "1           8256.96  menos que $40K    F\n",
       "2           3418.56    $80K - $120K    M\n",
       "3           3313.03  menos que $40K    F\n",
       "4           4716.22     $60K - $80K    M\n",
       "5           4010.69     $40K - $60K    M\n",
       "6          34516.72         $120K +    M\n",
       "7          29081.49     $60K - $80K    M\n",
       "8          22352.50     $60K - $80K    M\n",
       "9          11656.41    $80K - $120K    M\n",
       "10          6748.40         $120K +    M\n",
       "11          9095.59     $40K - $60K    M\n",
       "12         11751.09    $80K - $120K    M\n",
       "13          8547.74     $60K - $80K    M\n",
       "14          2436.00  menos que $40K    F\n",
       "15          4234.96    $80K - $120K    M\n",
       "16         30367.57    $80K - $120K    M\n",
       "18          3193.51     $40K - $60K    M\n",
       "21          1438.73  menos que $40K    F\n",
       "22          4470.45     $40K - $60K    M\n",
       "23          2492.08  menos que $40K    F\n",
       "26         14784.12     $40K - $60K    M\n",
       "38          3672.19     $40K - $60K    F\n",
       "42         17304.68     $40K - $60K    F\n",
       "53         19763.65         $120K +    M\n",
       "54         15769.34         $120K +    M\n",
       "63         23957.43         $120K +    M\n",
       "82          2158.57     $40K - $60K    F\n",
       "95          1709.75  menos que $40K    M\n",
       "123         3788.86     $40K - $60K    F\n",
       "134         3235.89  menos que $40K    M\n",
       "135        11749.97     $40K - $60K    F\n",
       "198         1438.72  menos que $40K    M\n",
       "215         2571.08  menos que $40K    M\n",
       "254         3252.00  menos que $40K    M"
      ]
     },
     "execution_count": 53,
     "metadata": {},
     "output_type": "execute_result"
    }
   ],
   "source": [
    "df_limite = df.query('salario_anual != \"na\"').groupby(['sexo','salario_anual'])[['limite_credito','salario_anual','sexo']]\n",
    "df_limite.head()\n"
   ]
  },
  {
   "cell_type": "code",
   "execution_count": 24,
   "metadata": {},
   "outputs": [
    {
     "data": {
      "text/html": [
       "<div>\n",
       "<style scoped>\n",
       "    .dataframe tbody tr th:only-of-type {\n",
       "        vertical-align: middle;\n",
       "    }\n",
       "\n",
       "    .dataframe tbody tr th {\n",
       "        vertical-align: top;\n",
       "    }\n",
       "\n",
       "    .dataframe thead th {\n",
       "        text-align: right;\n",
       "    }\n",
       "</style>\n",
       "<table border=\"1\" class=\"dataframe\">\n",
       "  <thead>\n",
       "    <tr style=\"text-align: right;\">\n",
       "      <th></th>\n",
       "      <th>salario_anual</th>\n",
       "      <th>tipo_cartao</th>\n",
       "      <th>QTD</th>\n",
       "    </tr>\n",
       "  </thead>\n",
       "  <tbody>\n",
       "    <tr>\n",
       "      <th>0</th>\n",
       "      <td>$120K +</td>\n",
       "      <td>blue</td>\n",
       "      <td>645</td>\n",
       "    </tr>\n",
       "    <tr>\n",
       "      <th>1</th>\n",
       "      <td>$120K +</td>\n",
       "      <td>gold</td>\n",
       "      <td>18</td>\n",
       "    </tr>\n",
       "    <tr>\n",
       "      <th>2</th>\n",
       "      <td>$120K +</td>\n",
       "      <td>platinum</td>\n",
       "      <td>4</td>\n",
       "    </tr>\n",
       "    <tr>\n",
       "      <th>3</th>\n",
       "      <td>$120K +</td>\n",
       "      <td>silver</td>\n",
       "      <td>60</td>\n",
       "    </tr>\n",
       "    <tr>\n",
       "      <th>4</th>\n",
       "      <td>$40K - $60K</td>\n",
       "      <td>blue</td>\n",
       "      <td>1675</td>\n",
       "    </tr>\n",
       "  </tbody>\n",
       "</table>\n",
       "</div>"
      ],
      "text/plain": [
       "  salario_anual tipo_cartao   QTD\n",
       "0       $120K +        blue   645\n",
       "1       $120K +        gold    18\n",
       "2       $120K +    platinum     4\n",
       "3       $120K +      silver    60\n",
       "4   $40K - $60K        blue  1675"
      ]
     },
     "execution_count": 24,
     "metadata": {},
     "output_type": "execute_result"
    }
   ],
   "source": [
    "df_cartao = df.query('salario_anual != \"na\"').groupby(['salario_anual','tipo_cartao'])['tipo_cartao'].count().reset_index(name='QTD')\n",
    "#df_cartao = df_cartao\n",
    "df_cartao.head()"
   ]
  },
  {
   "cell_type": "markdown",
   "metadata": {},
   "source": [
    "### Análise Gráfica"
   ]
  },
  {
   "cell_type": "code",
   "execution_count": 68,
   "metadata": {},
   "outputs": [
    {
     "data": {
      "text/plain": [
       "[Text(0.5, 1.0, 'Quantidade de Clientes por gênero')]"
      ]
     },
     "execution_count": 68,
     "metadata": {},
     "output_type": "execute_result"
    },
    {
     "data": {
      "image/png": "[encoded data removed]",
      "text/plain": [
       "<Figure size 864x576 with 1 Axes>"
      ]
     },
     "metadata": {},
     "output_type": "display_data"
    }
   ],
   "source": [
    "df_sexo = df.groupby(['sexo'])['sexo'].count().reset_index(name='QTD')\n",
    "\n",
    "fig, ax = plt.subplots(figsize=(12,8))\n",
    "ax.pie(df_sexo['QTD'], labels=['Feminino', 'Masculino'], autopct='%1.1f%%', startangle=90)\n",
    "ax.set(title='Quantidade de Clientes por gênero')"
   ]
  },
  {
   "cell_type": "code",
   "execution_count": 31,
   "metadata": {},
   "outputs": [
    {
     "data": {
      "text/plain": [
       "[Text(0.5, 1.0, 'Quantidade de Clientes por Tipo de cartão por Salário Anual'),\n",
       " Text(0, 0.5, 'Quantidade de Clientes'),\n",
       " Text(0.5, 0, 'Tipo de Cartão')]"
      ]
     },
     "execution_count": 31,
     "metadata": {},
     "output_type": "execute_result"
    },
    {
     "data": {
      "image/png": "[encoded data removed]",
      "text/plain": [
       "<Figure size 864x576 with 1 Axes>"
      ]
     },
     "metadata": {
      "needs_background": "light"
     },
     "output_type": "display_data"
    }
   ],
   "source": [
    "labels_salario = ['menos que $40K','$40K - $60K','$60K - $80K','$80K - $120K', '$120K +']\n",
    "fig, ax = plt.subplots(figsize=(12,8))\n",
    "labels = ['blue', 'silver', 'gold', 'platinum']\n",
    "sns.barplot(data=df_cartao, ax=ax, x='tipo_cartao', y='QTD', hue='salario_anual', hue_order=labels_salario, order=labels)\n",
    "ax.legend(title='Salário Anual',)\n",
    "ax.set(title='Quantidade de Clientes por Tipo de cartão por Salário Anual', ylabel='Quantidade de Clientes', xlabel='Tipo de Cartão')"
   ]
  },
  {
   "cell_type": "code",
   "execution_count": null,
   "metadata": {},
   "outputs": [],
   "source": [
    "# gráfico usando plotly.express\n",
    "px.bar(df_cartao, x='tipo_cartao', y='QTD', hover_data=['salario_anual'], \n",
    "    labels={'tipo_cartao':'Tipos de cartões', 'QTD':'Quantidade de clientes'}, \n",
    "    color='salario_anual')\n",
    "plt.title(\"\")"
   ]
  },
  {
   "attachments": {},
   "cell_type": "markdown",
   "metadata": {},
   "source": [
    "Separando por sexo"
   ]
  },
  {
   "cell_type": "code",
   "execution_count": 35,
   "metadata": {},
   "outputs": [
    {
     "data": {
      "text/html": [
       "<div>\n",
       "<style scoped>\n",
       "    .dataframe tbody tr th:only-of-type {\n",
       "        vertical-align: middle;\n",
       "    }\n",
       "\n",
       "    .dataframe tbody tr th {\n",
       "        vertical-align: top;\n",
       "    }\n",
       "\n",
       "    .dataframe thead th {\n",
       "        text-align: right;\n",
       "    }\n",
       "</style>\n",
       "<table border=\"1\" class=\"dataframe\">\n",
       "  <thead>\n",
       "    <tr style=\"text-align: right;\">\n",
       "      <th></th>\n",
       "      <th>sexo</th>\n",
       "      <th>salario_anual</th>\n",
       "      <th>QTD</th>\n",
       "    </tr>\n",
       "  </thead>\n",
       "  <tbody>\n",
       "    <tr>\n",
       "      <th>6</th>\n",
       "      <td>M</td>\n",
       "      <td>menos que $40K</td>\n",
       "      <td>277</td>\n",
       "    </tr>\n",
       "    <tr>\n",
       "      <th>2</th>\n",
       "      <td>M</td>\n",
       "      <td>$120K +</td>\n",
       "      <td>727</td>\n",
       "    </tr>\n",
       "    <tr>\n",
       "      <th>3</th>\n",
       "      <td>M</td>\n",
       "      <td>$40K - $60K</td>\n",
       "      <td>776</td>\n",
       "    </tr>\n",
       "    <tr>\n",
       "      <th>0</th>\n",
       "      <td>F</td>\n",
       "      <td>$40K - $60K</td>\n",
       "      <td>1014</td>\n",
       "    </tr>\n",
       "    <tr>\n",
       "      <th>4</th>\n",
       "      <td>M</td>\n",
       "      <td>$60K - $80K</td>\n",
       "      <td>1402</td>\n",
       "    </tr>\n",
       "    <tr>\n",
       "      <th>5</th>\n",
       "      <td>M</td>\n",
       "      <td>$80K - $120K</td>\n",
       "      <td>1535</td>\n",
       "    </tr>\n",
       "    <tr>\n",
       "      <th>1</th>\n",
       "      <td>F</td>\n",
       "      <td>menos que $40K</td>\n",
       "      <td>3284</td>\n",
       "    </tr>\n",
       "  </tbody>\n",
       "</table>\n",
       "</div>"
      ],
      "text/plain": [
       "  sexo   salario_anual   QTD\n",
       "6    M  menos que $40K   277\n",
       "2    M         $120K +   727\n",
       "3    M     $40K - $60K   776\n",
       "0    F     $40K - $60K  1014\n",
       "4    M     $60K - $80K  1402\n",
       "5    M    $80K - $120K  1535\n",
       "1    F  menos que $40K  3284"
      ]
     },
     "execution_count": 35,
     "metadata": {},
     "output_type": "execute_result"
    }
   ],
   "source": [
    "df_genero = df.query('salario_anual != \"na\"').groupby(['sexo', 'salario_anual'])['sexo'].count().reset_index(name='QTD')\n",
    "\n",
    "df_genero.head(10).sort_values(by='QTD')"
   ]
  },
  {
   "cell_type": "code",
   "execution_count": 37,
   "metadata": {},
   "outputs": [
    {
     "data": {
      "text/plain": [
       "[Text(0.5, 0, 'Gênero'),\n",
       " Text(0, 0.5, 'Quantidade de Clientes'),\n",
       " Text(0.5, 1.0, 'Salário Anual por Gênero'),\n",
       " [Text(0, 0, 'Feminino'), Text(1, 0, 'Masculino')]]"
      ]
     },
     "execution_count": 37,
     "metadata": {},
     "output_type": "execute_result"
    },
    {
     "data": {
      "image/png": "[encoded data removed]",
      "text/plain": [
       "<Figure size 864x576 with 1 Axes>"
      ]
     },
     "metadata": {},
     "output_type": "display_data"
    }
   ],
   "source": [
    "\n",
    "fig, ax = plt.subplots(figsize=(12,8))\n",
    "sns.set_style('whitegrid')\n",
    "sns.barplot(data=df_genero, ax=ax, x='sexo', y='QTD', hue='salario_anual', hue_order=labels_salario)\n",
    "ax.legend(title='Salário Anual')\n",
    "ax.set(xlabel='Gênero', ylabel='Quantidade de Clientes', title='Salário Anual por Gênero', xticklabels=['Feminino','Masculino'])\n"
   ]
  },
  {
   "attachments": {},
   "cell_type": "markdown",
   "metadata": {},
   "source": [
    ">Aqui podemos notar que apenas o sexo masculino possui salários maiores do que 60k."
   ]
  },
  {
   "attachments": {},
   "cell_type": "markdown",
   "metadata": {},
   "source": [
    "Separando por idade"
   ]
  },
  {
   "cell_type": "code",
   "execution_count": 33,
   "metadata": {},
   "outputs": [],
   "source": [
    "df_idade = df.query('salario_anual != \"na\"').groupby(['idade', 'salario_anual'])['idade'].count().reset_index(name='QTD')\n"
   ]
  },
  {
   "cell_type": "code",
   "execution_count": 34,
   "metadata": {},
   "outputs": [
    {
     "data": {
      "text/plain": [
       "[Text(0.5, 0, 'Idade'),\n",
       " Text(0, 0.5, 'Quantidade de clientes'),\n",
       " Text(0.5, 1.0, 'Salário Anual por Idade')]"
      ]
     },
     "execution_count": 34,
     "metadata": {},
     "output_type": "execute_result"
    },
    {
     "data": {
      "image/png": "[encoded data removed]",
      "text/plain": [
       "<Figure size 864x576 with 1 Axes>"
      ]
     },
     "metadata": {},
     "output_type": "display_data"
    }
   ],
   "source": [
    "fig, ax = plt.subplots(figsize=(12,8))\n",
    "sns.set_style('whitegrid')\n",
    "sns.lineplot(data=df_idade, x='idade', y='QTD', hue='salario_anual', hue_order=labels_salario)\n",
    "ax.legend(title='Salário Anual')\n",
    "ax.set(xlabel='Idade', ylabel='Quantidade de clientes', title='Salário Anual por Idade')"
   ]
  },
  {
   "cell_type": "code",
   "execution_count": 38,
   "metadata": {},
   "outputs": [],
   "source": [
    "# quantidade de produtos que os homens e as mulheres compram separados por cartão, salário, dependentes:\n",
    "df_produto = df.groupby(['sexo','qtd_produtos', 'salario_anual'])['sexo'].count().reset_index(name='QTD')\n",
    "df_produto_cartao = df.query('tipo_cartao != \"blue\"').groupby(['sexo', 'qtd_produtos', 'tipo_cartao'])['tipo_cartao'].count().reset_index(name='QTD')\n",
    "df_dependente = df.groupby(['sexo', 'dependentes'])['dependentes'].count().reset_index(name='QTD')\n",
    "\n"
   ]
  },
  {
   "attachments": {},
   "cell_type": "markdown",
   "metadata": {},
   "source": [
    "Dependentes por sexo"
   ]
  },
  {
   "cell_type": "code",
   "execution_count": 39,
   "metadata": {},
   "outputs": [
    {
     "data": {
      "text/plain": [
       "[Text(0.5, 0, 'Quantidade de dependentes'),\n",
       " Text(0, 0.5, 'Quantidade de Clientes'),\n",
       " Text(0.5, 1.0, 'Quantidade de clientes por Quantidade de Dependentes')]"
      ]
     },
     "execution_count": 39,
     "metadata": {},
     "output_type": "execute_result"
    },
    {
     "data": {
      "image/png": "[encoded data removed]",
      "text/plain": [
       "<Figure size 1152x720 with 1 Axes>"
      ]
     },
     "metadata": {},
     "output_type": "display_data"
    }
   ],
   "source": [
    "fig, ax = plt.subplots(figsize=(16,10))\n",
    "sns.set_style('whitegrid')\n",
    "sns.barplot(data=df_dependente, ax=ax, x='dependentes', y='QTD', hue='sexo', ci=None)\n",
    "ax.legend(title='Sexo', labels={'Feminino':'F', 'Masculino':'M'})\n",
    "ax.set(xlabel='Quantidade de dependentes', ylabel='Quantidade de Clientes', title='Quantidade de clientes por Quantidade de Dependentes')"
   ]
  },
  {
   "attachments": {},
   "cell_type": "markdown",
   "metadata": {},
   "source": [
    "Quantidade de produto por salário anual"
   ]
  },
  {
   "cell_type": "code",
   "execution_count": 40,
   "metadata": {},
   "outputs": [
    {
     "data": {
      "text/plain": [
       "[Text(0.5, 0, 'Quantidade de produtos'),\n",
       " Text(0, 0.5, 'Quantidade de clientes'),\n",
       " Text(0.5, 1.0, 'Quantidade de produtos por salário')]"
      ]
     },
     "execution_count": 40,
     "metadata": {},
     "output_type": "execute_result"
    },
    {
     "data": {
      "image/png": "[encoded data removed]",
      "text/plain": [
       "<Figure size 864x576 with 1 Axes>"
      ]
     },
     "metadata": {},
     "output_type": "display_data"
    }
   ],
   "source": [
    "#quantidade de produto por salário\n",
    "fig, ax = plt.subplots(figsize=(12,8))\n",
    "sns.set_style('whitegrid')\n",
    "sns.barplot(data=df_produto, ax=ax, x='qtd_produtos', y='QTD', hue='salario_anual', hue_order=labels_salario, ci=None)\n",
    "ax.legend(title='Salário')\n",
    "ax.set(xlabel='Quantidade de produtos', ylabel='Quantidade de clientes', title='Quantidade de produtos por salário')"
   ]
  },
  {
   "attachments": {},
   "cell_type": "markdown",
   "metadata": {},
   "source": [
    "Dependentes e escolaridade"
   ]
  },
  {
   "cell_type": "code",
   "execution_count": 48,
   "metadata": {},
   "outputs": [
    {
     "data": {
      "text/plain": [
       "[Text(0.5, 0, 'Escolaridade'),\n",
       " Text(0, 0.5, 'Quantidade de clientes'),\n",
       " Text(0.5, 1.0, 'Quantidade clientes por escolaridade')]"
      ]
     },
     "execution_count": 48,
     "metadata": {},
     "output_type": "execute_result"
    },
    {
     "data": {
      "image/png": "[encoded data removed]",
      "text/plain": [
       "<Figure size 864x576 with 1 Axes>"
      ]
     },
     "metadata": {},
     "output_type": "display_data"
    }
   ],
   "source": [
    "#dependentes e escolaridade\n",
    "df_esc = df.groupby(['sexo', 'escolaridade'])['sexo'].count().reset_index(name='QTD')\n",
    "fig, ax = plt.subplots(figsize=(12,8))\n",
    "sns.set_style('whitegrid')\n",
    "sns.barplot(data=df_esc, ax=ax, x='escolaridade', y='QTD', hue='sexo')\n",
    "ax.legend(title='Sexo')\n",
    "ax.set(xlabel='Escolaridade', ylabel='Quantidade de clientes', title='Quantidade clientes por escolaridade')"
   ]
  },
  {
   "attachments": {},
   "cell_type": "markdown",
   "metadata": {},
   "source": [
    "Escolaridade e salário"
   ]
  },
  {
   "cell_type": "code",
   "execution_count": 49,
   "metadata": {},
   "outputs": [
    {
     "data": {
      "text/plain": [
       "[Text(0.5, 0, 'Escolaridade'),\n",
       " Text(0, 0.5, 'Quantidade de clientes'),\n",
       " Text(0.5, 1.0, 'Quantidade clientes por escolaridade por salário anual')]"
      ]
     },
     "execution_count": 49,
     "metadata": {},
     "output_type": "execute_result"
    },
    {
     "data": {
      "image/png": "[encoded data removed]",
      "text/plain": [
       "<Figure size 864x576 with 1 Axes>"
      ]
     },
     "metadata": {},
     "output_type": "display_data"
    }
   ],
   "source": [
    "#salario e escolaridade\n",
    "df_esc_cartao = df.groupby(['sexo', 'escolaridade','salario_anual'])['sexo'].count().reset_index(name='QTD')\n",
    "\n",
    "fig, ax = plt.subplots(figsize=(12,8))\n",
    "sns.set_style('whitegrid')\n",
    "sns.barplot(data=df_esc_cartao, ax=ax, x='escolaridade', y='QTD', hue='salario_anual', hue_order=labels_salario, ci=None)\n",
    "ax.legend(title='Salário anual')\n",
    "ax.set(xlabel='Escolaridade', ylabel='Quantidade de clientes', title='Quantidade clientes por escolaridade por salário anual')"
   ]
  },
  {
   "attachments": {},
   "cell_type": "markdown",
   "metadata": {},
   "source": [
    ">Maior parte dos clientes possuem mestrado e ensino médio e não necessáriamente os que possuem maior escolaridade são os que ganham mais."
   ]
  },
  {
   "cell_type": "code",
   "execution_count": 50,
   "metadata": {},
   "outputs": [
    {
     "data": {
      "text/plain": [
       "Text(0.5, 1.0, 'Quantidade clientes do sexo masculino por escolaridade por salário anual')"
      ]
     },
     "execution_count": 50,
     "metadata": {},
     "output_type": "execute_result"
    },
    {
     "data": {
      "image/png": "[encoded data removed]",
      "text/plain": [
       "<Figure size 1008x432 with 2 Axes>"
      ]
     },
     "metadata": {},
     "output_type": "display_data"
    }
   ],
   "source": [
    "df_esc_fem = df.query('sexo == \"F\" and escolaridade != \"na\"').groupby(['sexo', 'escolaridade','salario_anual'])['sexo'].count().reset_index(name='QTD')\n",
    "df_esc_mas = df.query('sexo == \"M\" and escolaridade != \"na\"').groupby(['sexo', 'escolaridade','salario_anual'])['sexo'].count().reset_index(name='QTD')\n",
    "\n",
    "fig = plt.figure(figsize=(14,6))\n",
    "sns.set_style('whitegrid')\n",
    "\n",
    "# grafico feminino\n",
    "plt.subplot(1,2,1)\n",
    "sns.barplot(data=df_esc_fem, x='escolaridade', y='QTD', hue='salario_anual', hue_order=labels_salario, ci=None)\n",
    "plt.legend(title='Salário anual')\n",
    "plt.xlabel('Escolaridade')\n",
    "plt.ylabel('Quantidade de clientes')\n",
    "plt.yticks(range(0, 1201, 200))\n",
    "plt.title('Quantidade clientes do sexo feminino por escolaridade por salário anual')\n",
    "\n",
    "# grafico masculino\n",
    "plt.subplot(1,2,2)\n",
    "sns.barplot(data=df_esc_mas, x='escolaridade', y='QTD', hue='salario_anual', hue_order=labels_salario, ci=None)\n",
    "plt.legend(title='Salário anual')\n",
    "plt.xlabel('Escolaridade')\n",
    "plt.ylabel('Quantidade de clientes')\n",
    "plt.yticks(range(0, 1201, 200))\n",
    "plt.title('Quantidade clientes do sexo masculino por escolaridade por salário anual')"
   ]
  },
  {
   "cell_type": "markdown",
   "metadata": {},
   "source": [
    "> Independete da formação das mulheres elas ganham até $60K"
   ]
  },
  {
   "attachments": {},
   "cell_type": "markdown",
   "metadata": {},
   "source": [
    "Estado civil e salário anual"
   ]
  },
  {
   "cell_type": "code",
   "execution_count": 51,
   "metadata": {},
   "outputs": [
    {
     "data": {
      "text/plain": [
       "[Text(0.5, 0, 'Estado Civil'),\n",
       " Text(0, 0.5, 'Quantidade de clientes'),\n",
       " Text(0.5, 1.0, 'Quantidade clientes por estado civil por salário anual')]"
      ]
     },
     "execution_count": 51,
     "metadata": {},
     "output_type": "execute_result"
    },
    {
     "data": {
      "image/png": "[encoded data removed]",
      "text/plain": [
       "<Figure size 864x576 with 1 Axes>"
      ]
     },
     "metadata": {},
     "output_type": "display_data"
    }
   ],
   "source": [
    "#salario e estado civil\n",
    "df_esc_civil = df.groupby(['sexo', 'estado_civil','salario_anual'])['sexo'].count().reset_index(name='QTD')\n",
    "\n",
    "fig, ax = plt.subplots(figsize=(12,8))\n",
    "sns.set_style('whitegrid')\n",
    "sns.barplot(data=df_esc_civil, ax=ax, x='estado_civil', y='QTD', hue='salario_anual', hue_order=labels_salario, ci=None)\n",
    "ax.legend(title='Salário anual')\n",
    "ax.set(xlabel='Estado Civil', ylabel='Quantidade de clientes', title='Quantidade clientes por estado civil por salário anual')"
   ]
  },
  {
   "attachments": {},
   "cell_type": "markdown",
   "metadata": {},
   "source": [
    ">Os clientes são em maioria casados ou solteiros"
   ]
  },
  {
   "cell_type": "code",
   "execution_count": null,
   "metadata": {},
   "outputs": [
    {
     "data": {
      "text/plain": [
       "Text(0.5, 1.0, 'Quantidade clientes do sexo masculino por estado civil por salário anual')"
      ]
     },
     "execution_count": 36,
     "metadata": {},
     "output_type": "execute_result"
    },
    {
     "data": {
      "image/png": "[encoded data removed]",
      "text/plain": [
       "<Figure size 1008x432 with 2 Axes>"
      ]
     },
     "metadata": {},
     "output_type": "display_data"
    }
   ],
   "source": [
    "df_fem = df.query('sexo == \"F\" and estado_civil != \"na\"').groupby(['sexo', 'estado_civil','salario_anual'])['sexo'].count().reset_index(name='QTD')\n",
    "df_mas = df.query('sexo == \"M\" and estado_civil != \"na\"').groupby(['sexo', 'estado_civil','salario_anual'])['sexo'].count().reset_index(name='QTD')\n",
    "fig = plt.figure(figsize=(14,6))\n",
    "sns.set_style('whitegrid')\n",
    "\n",
    "# grafico feminino\n",
    "plt.subplot(1,2,1)\n",
    "sns.barplot(data=df_fem, x='estado_civil', y='QTD', hue='salario_anual', hue_order=labels_salario, ci=None)\n",
    "plt.legend(title='Salário anual')\n",
    "plt.xlabel('Estado Civil')\n",
    "plt.ylabel('Quantidade de clientes')\n",
    "plt.title('Quantidade clientes do sexo feminino por estado civil por salário anual')\n",
    "\n",
    "# grafico masculino\n",
    "plt.subplot(1,2,2)\n",
    "sns.barplot(data=df_mas, x='estado_civil', y='QTD', hue='salario_anual', hue_order=labels_salario, ci=None)\n",
    "plt.legend(title='Salário anual')\n",
    "plt.xlabel('Estado Civil')\n",
    "plt.ylabel('Quantidade de clientes')\n",
    "plt.title('Quantidade clientes do sexo masculino por estado civil por salário anual')"
   ]
  },
  {
   "attachments": {},
   "cell_type": "markdown",
   "metadata": {},
   "source": [
    "Meses inativo e salário"
   ]
  },
  {
   "cell_type": "code",
   "execution_count": 52,
   "metadata": {},
   "outputs": [
    {
     "data": {
      "text/plain": [
       "[Text(0.5, 0, 'Quantidade de meses inativo (12 meses)'),\n",
       " Text(0, 0.5, 'Quantidade de clientes'),\n",
       " Text(0.5, 1.0, 'Quantidade clientes por meses inativo por salário anual')]"
      ]
     },
     "execution_count": 52,
     "metadata": {},
     "output_type": "execute_result"
    },
    {
     "data": {
      "image/png": "[encoded data removed]",
      "text/plain": [
       "<Figure size 864x576 with 1 Axes>"
      ]
     },
     "metadata": {},
     "output_type": "display_data"
    }
   ],
   "source": [
    "df_inativo = df.groupby(['sexo', 'meses_inativo_12m','salario_anual'])['sexo'].count().reset_index(name='QTD')\n",
    "\n",
    "fig, ax = plt.subplots(figsize=(12,8))\n",
    "sns.set_style('whitegrid')\n",
    "sns.barplot(data=df_inativo, ax=ax, x='meses_inativo_12m', y='QTD', hue='salario_anual', hue_order=labels_salario, ci=None)\n",
    "ax.legend(title='Salário anual')\n",
    "ax.set(xlabel='Quantidade de meses inativo (12 meses)', ylabel='Quantidade de clientes', title='Quantidade clientes por meses inativo por salário anual')"
   ]
  },
  {
   "cell_type": "code",
   "execution_count": null,
   "metadata": {},
   "outputs": [],
   "source": []
  }
 ],
 "metadata": {
  "kernelspec": {
   "display_name": "Python 3",
   "language": "python",
   "name": "python3"
  },
  "language_info": {
   "codemirror_mode": {
    "name": "ipython",
    "version": 3
   },
   "file_extension": ".py",
   "mimetype": "text/x-python",
   "name": "python",
   "nbconvert_exporter": "python",
   "pygments_lexer": "ipython3",
   "version": "3.10.11"
  },
  "orig_nbformat": 4,
  "vscode": {
   "interpreter": {
    "hash": "8f3ee42acda2347501714f248ee2be6451109ba9ea7518067412259c6f1fc38a"
   }
  }
 },
 "nbformat": 4,
 "nbformat_minor": 2
}
